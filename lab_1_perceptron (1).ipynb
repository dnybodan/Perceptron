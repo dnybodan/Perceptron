{
  "nbformat": 4,
  "nbformat_minor": 0,
  "metadata": {
    "colab": {
      "name": "lab_1_perceptron.ipynb",
      "provenance": [],
      "collapsed_sections": [
        "cTlK-kijk8Mg"
      ]
    },
    "kernelspec": {
      "display_name": "Python 3",
      "language": "python",
      "name": "python3"
    },
    "language_info": {
      "codemirror_mode": {
        "name": "ipython",
        "version": 3
      },
      "file_extension": ".py",
      "mimetype": "text/x-python",
      "name": "python",
      "nbconvert_exporter": "python",
      "pygments_lexer": "ipython3",
      "version": "3.6.9"
    }
  },
  "cells": [
    {
      "cell_type": "markdown",
      "metadata": {
        "id": "DVL7_bgmIAPR"
      },
      "source": [
        "# Perceptron Lab Daniel Nybo\n",
        "\n",
        "\n",
        "\n",
        "\n"
      ]
    },
    {
      "cell_type": "code",
      "metadata": {
        "id": "6ZbYjZZZ_yLV"
      },
      "source": [
        "from sklearn.base import BaseEstimator, ClassifierMixin \n",
        "from sklearn.linear_model import Perceptron\n",
        "from sklearn.model_selection import train_test_split\n",
        "import matplotlib.pyplot as plt\n",
        "import sklearn.datasets as data\n",
        "from sklearn.metrics import accuracy_score\n",
        "import numpy as np\n",
        "import matplotlib.pyplot as plt\n",
        "from scipy.io import arff\n",
        "import pandas as pd\n",
        "import random\n",
        "import matplotlib.pyplot as plt\n",
        "from tabulate import tabulate\n",
        "import math\n",
        "from astropy.table import QTable, Table, Column\n",
        "from astropy import units as u"
      ],
      "execution_count": null,
      "outputs": []
    },
    {
      "cell_type": "markdown",
      "metadata": {
        "id": "sCcEPx5VIORj"
      },
      "source": [
        "## 1. (40%) Correctly implement and submit your own code for the perceptron learning algorithm. \n",
        "\n",
        "### Code requirements\n",
        "- Shuffle the data each epoch.\n",
        "- A way to create a random train/test split. Write your own. In the future you can use the scikit-learn version if you want.\n",
        "- Use Stochastic/On-line training updates: Iterate and update weights after each training instance (i.e. do not attempt batch updates)\n",
        "- Implement a stopping criteria: when your model has trained for a number of epochs with no significant improvement in accuracy, stop training. Note that the weights/accuracy do not usually change monotonically.\n",
        "- Use your perceptron to solve the Debug data. We provide you with several parameters, and you should be able to replicate our results every time. When you are confident it is correct, run your perceptron on the Evaluation data with the same parameters, and include your final weights in your report PDF."
      ]
    },
    {
      "cell_type": "code",
      "metadata": {
        "id": "_a2KSZ_7AN0G"
      },
      "source": [
        "\n",
        "class PerceptronClassifier(BaseEstimator,ClassifierMixin):\n",
        "\n",
        "    def __init__(self, lr=.1, shuffle=True, deterministic=None):\n",
        "        \"\"\" \n",
        "            Initialize class with chosen hyperparameters.\n",
        "        Args:\n",
        "            lr (float): A learning rate / step size.\n",
        "            shuffle: Whether to shuffle the training data each epoch. DO NOT \n",
        "            SHUFFLE for evaluation / debug datasets.\n",
        "        \"\"\"\n",
        "        self.lr = lr\n",
        "        self.shuffle = shuffle\n",
        "        self.deterministic = deterministic\n",
        "\n",
        "    def fit(self, X, y, initial_weights=None):\n",
        "        \"\"\" \n",
        "            Fit the data; run the algorithm and adjust the weights to find a \n",
        "            good solution\n",
        "        Args:\n",
        "            X (array-like): A 2D numpy array with the training data, excluding\n",
        "            targets\n",
        "            y (array-like): A 2D numpy array with the training targets\n",
        "            initial_weights (array-like): allows the user to provide initial \n",
        "            weights\n",
        "        Returns:\n",
        "            self: this allows this to be chained, e.g. model.fit(X,y).predict(X_test)\n",
        "        \"\"\"\n",
        "        #adding bias nodes to each data row\n",
        "        rows, columns = X.shape\n",
        "        bias = np.ones((rows, 1), dtype=X.dtype)\n",
        "        X = np.hstack((X,bias))\n",
        "        row, column = X.shape\n",
        "        \n",
        "        if (np.count_nonzero(initial_weights) < 1):\n",
        "          self.weights = np.zeros(column)\n",
        "        elif initial_weights:\n",
        "          self.weights = initial_weights\n",
        "        else:\n",
        "          self.weights = self.initialize_weights(column)\n",
        "        \n",
        "        if not self.deterministic==None:\n",
        "          num_runs = self.deterministic\n",
        "        else:\n",
        "          num_runs = -1\n",
        "        \n",
        "        epoch_count = 0\n",
        "        cur_acc = 0\n",
        "        prev_acc = 0\n",
        "        acc_diff = 1\n",
        "        epochs = 0\n",
        "        epochs = 0\n",
        "        deltaWeights = np.zeros(column, dtype=float)\n",
        "        times_the_same = 0\n",
        "        mCR = []\n",
        "        while (self.deterministic==None and times_the_same < 3) or epochs < num_runs:\n",
        "          curr_acc = self.score(X[:,0:column-1],y)\n",
        "          mCR.append(1-curr_acc)\n",
        "          if (self.shuffle):\n",
        "            X,y = self._shuffle_data(X,y)    \n",
        "          for row_index in range(0, row):\n",
        "            net = 0\n",
        "            output = 0\n",
        "            for column_index in range(0, column):\n",
        "              net += self.weights[column_index] * X[row_index, column_index]\n",
        "            output = 1 if net > 0 else 0\n",
        "            for weight_index in range(0, column): \n",
        "              deltaWeights[weight_index] = (self.lr * (y[row_index, 0] - output) * X[row_index, weight_index])\n",
        "              #print(\"Epoch \", i, \"Row, \", weight_index, deltaWeights[weight_index], \" = \", self.lr , \" * (\" , y[row_index, 0] , \" - \" , output[weight_index] , \") *\" , X[row_index,weight_index])\n",
        "              self.weights[weight_index] = self.weights[weight_index] + deltaWeights[weight_index]\n",
        "          epochs += 1\n",
        "          epoch_count += 1\n",
        "          curr_acc = self.score(X[:,0:column-1], y)\n",
        "          if not abs(curr_acc - prev_acc):\n",
        "            times_the_same += 1\n",
        "          acc_diff = abs(curr_acc - prev_acc)\n",
        "          prev_acc = curr_acc\n",
        "          #mCR.append(1-curr_acc)\n",
        "      \n",
        "        #print(net, output, self.weights)\n",
        "        self.mCR = mCR\n",
        "        self.epoch_count = epoch_count\n",
        "        return self\n",
        "\n",
        "    def predict(self, X):\n",
        "        \"\"\" \n",
        "            Predict all classes for a dataset X\n",
        "        Args:\n",
        "            X (array-like): A 2D numpy array with the training data, excluding \n",
        "            targets\n",
        "        Returns:\n",
        "            array, shape (n_samples,)\n",
        "                Predicted target values per element in X.\n",
        "        \"\"\"\n",
        "        rows, columns = X.shape\n",
        "        bias = np.ones((rows, 1), dtype=X.dtype)\n",
        "        X = np.hstack((X,bias))\n",
        "        row, column = X.shape\n",
        "        output = np.zeros(row, dtype=float)\n",
        "        #print(self.weights)\n",
        "        for row_index in range(0, row):\n",
        "          net = 0\n",
        "          for column_index in range(0, column):\n",
        "            net += self.weights[column_index] * X[row_index, column_index]\n",
        "          output[row_index] = 1 if net > 0 else 0\n",
        "       \n",
        "        return output, output.shape\n",
        "\n",
        "    def initialize_weights(self, numWeights):\n",
        "        \"\"\" Initialize weights for perceptron. Don't forget the bias!\n",
        "        Returns:\n",
        "        \"\"\"\n",
        "        self.weights = np.random.uniform(-1, 1, numWeights)\n",
        "        return self.weights\n",
        "\n",
        "    def score(self, X, y):\n",
        "        \"\"\" \n",
        "            Return accuracy of model on a given dataset. Must implement own \n",
        "            score function.\n",
        "        Args:\n",
        "            X (array-like): A 2D numpy array with data, excluding targets\n",
        "            y (array-like): A 2D numpy array with targets\n",
        "        Returns:\n",
        "            score : float\n",
        "                Mean accuracy of self.predict(X) wrt. y.\n",
        "        \"\"\"\n",
        "        numCorrect = 0\n",
        "        output,shape = self.predict(X)\n",
        "        (row,) = shape\n",
        "        for index in range(0,row):\n",
        "          if output[index] == y[index]:\n",
        "            numCorrect += 1\n",
        "        return numCorrect/row\n",
        "\n",
        "    def _shuffle_data(self, X, y):\n",
        "        \"\"\" \n",
        "            Shuffle the data! This _ prefix suggests that this method should \n",
        "            only be called internally.\n",
        "            It might be easier to concatenate X & y and shuffle a single 2D \n",
        "            array, rather than shuffling X and y exactly the same way, \n",
        "            independently.\n",
        "        \"\"\"\n",
        "        \n",
        "        shuffle_data = np.hstack((X,y))\n",
        "        #print(shuffle_data)\n",
        "        row, column = shuffle_data.shape\n",
        "        if self.shuffle:\n",
        "          np.take(shuffle_data,np.random.permutation(shuffle_data.shape[0]),axis=0,out=shuffle_data)\n",
        "          X = shuffle_data[:,0:column-1]\n",
        "          y = shuffle_data[:,column-1:column]\n",
        "          #print(shuffle_data)\n",
        "        return X, y\n",
        "\n",
        "    ### Not required by sk-learn but required by us for grading. Returns the weights.\n",
        "    def get_weights(self):\n",
        "        return self.weights"
      ],
      "execution_count": null,
      "outputs": []
    },
    {
      "cell_type": "markdown",
      "metadata": {
        "id": "KibCIXIThpbE"
      },
      "source": [
        "## 1.1 Debug \n",
        "\n",
        "Debug your model by running it on the [debug dataset](https://raw.githubusercontent.com/cs472ta/CS472/master/datasets/linsep2nonorigin.arff)\n",
        "\n",
        "Parameters:\n",
        "\n",
        "Learning Rate = 0.1\\\n",
        "Deterministic = 10 [This means run it 10 epochs and should be the same everytime you run it]\\\n",
        "Shuffle = False\\\n",
        "Initial Weights = All zeros\n",
        "\n",
        "---\n",
        "\n",
        "Expected Results\n",
        "\n",
        "Accuracy = [0.88]\\\n",
        "Final Weights = [-0.23  0.18 -0.1 ]"
      ]
    },
    {
      "cell_type": "code",
      "metadata": {
        "id": "KgAyy82gixIF"
      },
      "source": [
        "# Load debug data\n",
        "#getting training data to put into array\n",
        "!curl https://raw.githubusercontent.com/cs472ta/CS472/master/datasets/linsep2nonorigin.arff --output linsep.arff\n",
        "data = arff.loadarff('linsep.arff')\n",
        "df = pd.DataFrame(data[0])\n",
        "df['class'] = df['class'].str.decode('utf-8').astype(int)\n",
        "#print(df)\n",
        "\n",
        "#convert data frame to numpy array\n",
        "np_data = np.array(df)\n",
        "#print(np_data)\n",
        "row, column = np_data.shape\n",
        "x = np_data[:,0:column-1]\n",
        "y = np_data[:,column - 1:column]\n",
        "\n",
        "\n",
        "# Train on debug data\n",
        "#perform the train operation on data\n",
        "myModel = PerceptronClassifier(.1,False,10)\n",
        "myModel.fit(x,y,[0,0,0])\n",
        "\n",
        "# Check accuracy and weights\n",
        "output,out_shape = myModel.predict(x) \n",
        "print(\"Accuracy = \", round(myModel.score(x, y), 2))\n",
        "print(\"Weights = \", myModel.get_weights())"
      ],
      "execution_count": null,
      "outputs": []
    },
    {
      "cell_type": "markdown",
      "metadata": {
        "id": "kY3VNB1ui03N"
      },
      "source": [
        "## 1.2 Evaluation\n",
        "\n",
        "We will evaluate your model based on it's performance on the [evaluation dataset](https://raw.githubusercontent.com/cs472ta/CS472/master/datasets/data_banknote_authentication.arff)"
      ]
    },
    {
      "cell_type": "code",
      "metadata": {
        "id": "2yAxA78QjDh2"
      },
      "source": [
        "# Load debug data\n",
        "#getting training data to put into array\n",
        "!curl https://raw.githubusercontent.com/cs472ta/CS472/master/datasets/data_banknote_authentication.arff --output bank.arff\n",
        "data = arff.loadarff('bank.arff')\n",
        "evalDf = pd.DataFrame(data[0])\n",
        "evalDf['class'] = evalDf['class'].str.decode('utf-8').astype(int)\n",
        "#print(df)\n",
        "\n",
        "#convert data frame to numpy array\n",
        "np_evalData = np.array(evalDf)\n",
        "#print(np_data)\n",
        "row, column = np_evalData.shape\n",
        "ev_X = np_evalData[:,0:column-1]\n",
        "ev_Y = np_evalData[:,column - 1:column]\n",
        "\n",
        "# Train on evaluation data\n",
        "#perform the train operation on data\n",
        "evModel = PerceptronClassifier(.1,False,10)\n",
        "evModel.fit(ev_X,ev_Y,[0,0,0,0,0])\n",
        "\n",
        "# Print  weights \n",
        "output,out_shape = evModel.predict(ev_X) \n",
        "print(\"Accuracy = \", evModel.score(ev_X, ev_Y))\n",
        "print(\"Weights = \", evModel.get_weights())"
      ],
      "execution_count": null,
      "outputs": []
    },
    {
      "cell_type": "markdown",
      "metadata": {
        "id": "encf5AfZidJK"
      },
      "source": [
        "The final weights for the Evaluation Data Set are as follows :\r\n",
        "[-3.80657242 -2.840821   -3.0719334  -1.4003906   4.9       ]\r\n",
        "\r\n",
        "With Accuracy of .99 "
      ]
    },
    {
      "cell_type": "markdown",
      "metadata": {
        "id": "9vWiTdlbR2Xh"
      },
      "source": [
        "## 2. (10%) Create 2 datasets\n",
        "\n",
        "- Both with 8 instances using 2 real valued inputs (ranging between -1 and 1) with 4 instances from each class. \n",
        "- One data set should be linearly separable and the other not.\n",
        "- Graph each dataset\n",
        "\n",
        "![Linearly Separable Data](https://raw.githubusercontent.com/rmorain/CS472-1/master/images/perceptron/linearly_separable.png)\n",
        "\n",
        "![Not Linearly Separable](https://raw.githubusercontent.com/rmorain/CS472-1/master/images/perceptron/not_linearly_separable.png)"
      ]
    },
    {
      "cell_type": "code",
      "metadata": {
        "id": "4SSoasDQSKXb",
        "colab": {
          "base_uri": "https://localhost:8080/",
          "height": 573
        },
        "outputId": "6f51e007-ced5-451a-aa5e-bd259deb3ab4"
      },
      "source": [
        "# Create 2 datasets\r\n",
        "dataSet_1_1 = np.array([[-.2, -.2, 1],[-.3, -.3, 1],[-.4, -.4, 1],[-.2, -.3, 1]])\r\n",
        "dataSet_1_0 = np.array([[.2, .7, 0],[.4, .5, 0],[.6, .3, 0],[.9, .7, 0]])\r\n",
        "\r\n",
        "dataSet_2_1 = np.array([[-.288899, .1322, 1],[.102934, .8999, 1],[-.90123, -.75584, 1],[.53213, .888854, 1]])\r\n",
        "dataSet_2_0 = np.array([[.222, -.1, 0],[-.4, 0, 0],[0, .3, 0],[.2, 0, 0]])\r\n",
        "\r\n",
        "\r\n",
        "dataSet_1 = np.vstack([dataSet_1_1,dataSet_1_0])\r\n",
        "dataSet_2 = np.vstack([dataSet_2_1,dataSet_2_0])\r\n",
        "\r\n",
        "Class1_ds1 = plt.scatter(dataSet_1_1[:,0], dataSet_1_1[:,1], c = \"blue\",  \r\n",
        "            s = 50) \r\n",
        "Class2_ds1= plt.scatter(dataSet_1_0[:,0], dataSet_1_0[:,1], c = \"orange\",  \r\n",
        "            s = 50)\r\n",
        "plt.title(\"Linearly Separable Data\") \r\n",
        "plt.xlabel(\"X-axis\") \r\n",
        "plt.ylabel(\"Y-axis\") \r\n",
        "plt.legend((Class1_ds1, Class2_ds1), (\"Class 1\", \"Class 2\"), loc='lower right')\r\n",
        "plt.show()\r\n",
        "\r\n",
        "Class1_ds2 = plt.scatter(dataSet_2_1[:,0], dataSet_2_1[:,1], c =\"blue\")\r\n",
        "Class2_ds2 = plt.scatter(dataSet_2_0[:,0], dataSet_2_0[:,1], c =\"orange\")\r\n",
        "plt.title(\"Non-Linearly Separable Data\")\r\n",
        "plt.xlabel(\"X-axis\") \r\n",
        "plt.ylabel(\"Y-axis\") \r\n",
        "plt.legend((Class1_ds2, Class2_ds2), (\"Class 1\", \"Class 2\"), loc='lower right')\r\n",
        "plt.show()\r\n"
      ],
      "execution_count": null,
      "outputs": [
        {
          "output_type": "display_data",
          "data": {
            "image/png": "[encoded data removed]",
            "text/plain": [
              "<Figure size 432x288 with 1 Axes>"
            ]
          },
          "metadata": {
            "tags": [],
            "needs_background": "light"
          }
        },
        {
          "output_type": "display_data",
          "data": {
            "image/png": "[encoded data removed]",
            "text/plain": [
              "<Figure size 432x288 with 1 Axes>"
            ]
          },
          "metadata": {
            "tags": [],
            "needs_background": "light"
          }
        }
      ]
    },
    {
      "cell_type": "markdown",
      "metadata": {
        "id": "SIRG42TgSR4x"
      },
      "source": [
        "## 3. (10%) Train on both sets with your perceptron code.\n",
        "\n",
        "- Use a couple different learning rates.\n"
      ]
    },
    {
      "cell_type": "code",
      "metadata": {
        "id": "KBGUn43ASiXW",
        "colab": {
          "base_uri": "https://localhost:8080/"
        },
        "outputId": "45e097d6-d3ac-47d4-97a8-8b57a6d7c5e7"
      },
      "source": [
        "# Train on each dataset\r\n",
        "r1,c1 = dataSet_1.shape\r\n",
        "\r\n",
        "for i in (5, 50, 35):\r\n",
        "  ds1Model = PerceptronClassifier(i/100,False,None)\r\n",
        "  X = dataSet_1[:,0:c1-1]\r\n",
        "  y = dataSet_1[:,c1-1:c1]\r\n",
        "  ds1Model.fit(X, y,[0,0,0])\r\n",
        "  print(\"Linearly Separable data: Data Set 1\")\r\n",
        "  print(\"learing rate = \", ds1Model.lr)\r\n",
        "  print(\"weights = \", ds1Model.get_weights())\r\n",
        "  print(\"accuracy = \", ds1Model.score(X,y))\r\n",
        "  print(\"number of epochs = \", ds1Model.epoch_count, \"\\n\")\r\n",
        "\r\n",
        "  r2,c2 = dataSet_2.shape\r\n",
        "  ds2Model = PerceptronClassifier(i/100,False,None)\r\n",
        "  X2 = dataSet_2[:,0:c1-1]\r\n",
        "  y2 = dataSet_2[:,c1-1:c1]\r\n",
        "  ds2Model.fit(X2, y2,[0,0,0])\r\n",
        "  print(\"Non-Linearly Separable data: Data Set 2\")\r\n",
        "  print(\"learing rate = \", ds2Model.lr)\r\n",
        "  print(\"weights = \", ds2Model.get_weights())\r\n",
        "  print(\"accuracy = \", ds2Model.score(X,y))\r\n",
        "  print(\"number of epochs = \", ds2Model.epoch_count, \"\\n\")"
      ],
      "execution_count": null,
      "outputs": [
        {
          "output_type": "stream",
          "text": [
            "Linearly Separable data: Data Set 1\n",
            "learing rate =  0.05\n",
            "weights =  [-0.02  -0.045  0.   ]\n",
            "accuracy =  1.0\n",
            "number of epochs =  4 \n",
            "\n",
            "Non-Linearly Separable data: Data Set 2\n",
            "learing rate =  0.05\n",
            "weights =  [-0.09049095  0.035681   -0.05      ]\n",
            "accuracy =  0.5\n",
            "number of epochs =  7 \n",
            "\n",
            "Linearly Separable data: Data Set 1\n",
            "learing rate =  0.5\n",
            "weights =  [-0.2  -0.45  0.  ]\n",
            "accuracy =  1.0\n",
            "number of epochs =  4 \n",
            "\n",
            "Non-Linearly Separable data: Data Set 2\n",
            "learing rate =  0.5\n",
            "weights =  [-0.9049095  0.35681   -0.5      ]\n",
            "accuracy =  0.5\n",
            "number of epochs =  7 \n",
            "\n",
            "Linearly Separable data: Data Set 1\n",
            "learing rate =  0.35\n",
            "weights =  [-0.14  -0.315  0.   ]\n",
            "accuracy =  1.0\n",
            "number of epochs =  4 \n",
            "\n",
            "Non-Linearly Separable data: Data Set 2\n",
            "learing rate =  0.35\n",
            "weights =  [-0.63343665  0.249767   -0.35      ]\n",
            "accuracy =  0.5\n",
            "number of epochs =  7 \n",
            "\n"
          ],
          "name": "stdout"
        }
      ]
    },
    {
      "cell_type": "markdown",
      "metadata": {
        "id": "mOteTlV6S0bq"
      },
      "source": [
        "Discuss the effect of learning rate, including how many epochs are completed before stopping. (For these cases, learning rate should have minimal effect, unlike with the Backpropagation lab.)\n"
      ]
    },
    {
      "cell_type": "markdown",
      "metadata": {
        "id": "qmq9GSbJS8k2"
      },
      "source": [
        "\n",
        "There is no correlation between the learning rate and the number of epochs in this data set. The learning rate does not effect the number of epochs because there are only little bits of data here.\n"
      ]
    },
    {
      "cell_type": "markdown",
      "metadata": {
        "id": "v19fpixqTe-7"
      },
      "source": [
        "## 4. (10%) Graph the instances and decision line for the two cases above (with LR=.1)\n",
        " \n",
        " - For all graphs always label the axes!"
      ]
    },
    {
      "cell_type": "code",
      "metadata": {
        "id": "ZCPFUAGTS2sX",
        "colab": {
          "base_uri": "https://localhost:8080/",
          "height": 573
        },
        "outputId": "e7f46ebd-ce99-4217-9405-437376a56328"
      },
      "source": [
        "# Graph decision line\r\n",
        "Class1_ds1 = plt.scatter(dataSet_1_1[:,0], dataSet_1_1[:,1], c = \"blue\",  \r\n",
        "            label = \"Class 1\") \r\n",
        "Class2_ds1= plt.scatter(dataSet_1_0[:,0], dataSet_1_0[:,1], c = \"orange\",  \r\n",
        "            label = \"Class 2\")\r\n",
        "plt.title(\"Linearly Separable Data\") \r\n",
        "plt.xlabel(\"X-axis\") \r\n",
        "plt.ylabel(\"Y-axis\")\r\n",
        "s = np.linspace(-1,1,100)\r\n",
        "w1 = ds1Model.weights[0]\r\n",
        "w2 = ds1Model.weights[1]\r\n",
        "b = ds1Model.weights[2]\r\n",
        "plt.ylim(-1, 1)\r\n",
        "line1 = plt.plot(s,((-1*w1/w2)*s - (b/w2)), label=\"Decision Line\")\r\n",
        "plt.legend(scatterpoints=1, loc='lower right')\r\n",
        "plt.show()\r\n",
        "\r\n",
        "#data set 2 with non-linearly separable data\r\n",
        "Class1_ds2 = plt.scatter(dataSet_2_1[:,0], dataSet_2_1[:,1], c =\"blue\",label = \"Class 1\")\r\n",
        "Class2_ds2 = plt.scatter(dataSet_2_0[:,0], dataSet_2_0[:,1], c =\"orange\",label = \"Class 2\")\r\n",
        "s = np.linspace(-1,1,100)\r\n",
        "w1_2 = ds2Model.weights[0]\r\n",
        "w2_2 = ds2Model.weights[1]\r\n",
        "b_2 = ds2Model.weights[2]\r\n",
        "plt.ylim(-1, 1)\r\n",
        "line1 = plt.plot(s,((-1*w1_2/w2_2)*s - (b/w2_2)), label=\"Decision Line\")\r\n",
        "plt.title(\"Non-Linearly Separable Data\")\r\n",
        "plt.xlabel(\"X-axis\") \r\n",
        "plt.ylabel(\"Y-axis\") \r\n",
        "plt.legend(scatterpoints=1, loc='lower right')\r\n",
        "plt.show()\r\n"
      ],
      "execution_count": null,
      "outputs": [
        {
          "output_type": "display_data",
          "data": {
            "image/png": "[encoded data removed]",
            "text/plain": [
              "<Figure size 432x288 with 1 Axes>"
            ]
          },
          "metadata": {
            "tags": [],
            "needs_background": "light"
          }
        },
        {
          "output_type": "display_data",
          "data": {
            "image/png": "[encoded data removed]",
            "text/plain": [
              "<Figure size 432x288 with 1 Axes>"
            ]
          },
          "metadata": {
            "tags": [],
            "needs_background": "light"
          }
        }
      ]
    },
    {
      "cell_type": "markdown",
      "metadata": {
        "id": "0ySvhd1lUGSe"
      },
      "source": [
        "## 5. (20%) Use your perceptron code to learn this version of the [voting data set](https://raw.githubusercontent.com/rmorain/CS472-1/master/datasets/perceptron/voting-dataset.arff).\n",
        "\n",
        "This particular task is an edited version of the standard voting set, where we have replaced all the “don’t know” values with the most common value for the particular attribute.  \n",
        "\n",
        "### 5.1 Create a table that reports the final training and test set accuracy and the number of epochs for each trial.\n",
        "\n",
        "- Try it five times with different random 70/30 splits. \n",
        "- Use your own code to randomize and make splits. \n",
        "- Report the average of these values for the 5 trials in the table.  \n",
        "\n",
        "| Trial | Training Accuracy | Test accuracy | Number of epochs |\n",
        "| --- | --- | --- | --- |\n",
        "| 1 | .95 | .55 | 4 |\n",
        "| Average each value by trial| | | \n",
        "\n",
        "*- As a rough sanity check, typical Perceptron test accuracies for the voting data set are 90%-98%.*\n"
      ]
    },
    {
      "cell_type": "code",
      "metadata": {
        "id": "Romyl4G8Trki",
        "colab": {
          "base_uri": "https://localhost:8080/"
        },
        "outputId": "6a897461-bf84-4988-f58e-7908748dabd8"
      },
      "source": [
        "# Create table any way you like\r\n",
        "#getting training data to put into array\r\n",
        "!curl https://raw.githubusercontent.com/rmorain/CS472-1/master/datasets/perceptron/voting-dataset.arff --output voting.arff\r\n",
        "data = arff.loadarff('voting.arff')\r\n",
        "df = pd.DataFrame(data[0])\r\n",
        "for datum in df:\r\n",
        "  df[datum] = df[datum].str.decode('utf-8').astype(str)\r\n",
        "#print(df)\r\n",
        "#convert data frame to numpy array\r\n",
        "np_data = np.array(df)\r\n",
        "row,col = np_data.shape\r\n",
        "X = np.array(np_data[:,0:col-1])\r\n",
        "y = np.array(np_data[:,col-1:col])\r\n",
        "X[X=='y'] = 1.\r\n",
        "X[X=='n'] = 0.\r\n",
        "y[y=='democrat'] = 1.\r\n",
        "y[y=='republican'] = 0.\r\n",
        "\r\n",
        "votingModel = PerceptronClassifier(.1,True,None)\r\n",
        "vData = np.hstack((X,y))\r\n",
        "\r\n",
        "train_accuracy = []\r\n",
        "test_accuracy = []\r\n",
        "num_epochs = []\r\n",
        "mCR = []\r\n",
        "#now train data\r\n",
        "for i in range(0, 5):\r\n",
        "  np.random.shuffle(vData)\r\n",
        "  shuffled_training_set = vData[0:math.ceil(row*.7),:]\r\n",
        "  shuffled_test_set = vData[math.ceil(row*.7):-1,:]\r\n",
        "  train_X = shuffled_training_set[:,0:col-1]\r\n",
        "  train_y = shuffled_training_set[:,col-1:col]\r\n",
        "  test_X = shuffled_test_set[:,0:col-1]\r\n",
        "  test_y = shuffled_test_set[:,col-1:col]\r\n",
        "  votingModel = PerceptronClassifier(.1,True,None)\r\n",
        "  votingModel.fit(train_X, train_y)\r\n",
        "  train_accuracy.append(votingModel.score(train_X, train_y))\r\n",
        "  test_accuracy.append(votingModel.score(test_X, test_y))\r\n",
        "  num_epochs.append(votingModel.epoch_count)\r\n",
        "  mCR.append(votingModel.mCR)\r\n",
        "\r\n",
        "\r\n",
        "train_avg = np.average(train_accuracy)\r\n",
        "test_avg = np.average(test_accuracy)\r\n",
        "epoch_avg = np.average(num_epochs)\r\n",
        "strings = [\"\",\"\",\"\",\"\",\"\"]\r\n",
        "table = Table([strings,range(1, 6), train_accuracy, test_accuracy, num_epochs], names=[\" \", \"TestNum\", \"TrainAcc\", \"TestAcc\", \"Epochs\"])\r\n",
        "table['TrainAcc'].info.format = '.3f'\r\n",
        "table['TestAcc'].info.format = '.3f'\r\n",
        "table.add_row([\"Averages\", 0, train_avg, test_avg, epoch_avg])\r\n",
        "print(table)\r\n",
        "#print(votingModel.weights)\r\n"
      ],
      "execution_count": null,
      "outputs": [
        {
          "output_type": "stream",
          "text": [
            "  % Total    % Received % Xferd  Average Speed   Time    Time     Time  Current\n",
            "                                 Dload  Upload   Total   Spent    Left  Speed\n",
            "\r  0     0    0     0    0     0      0      0 --:--:-- --:--:-- --:--:--     0\r100 43825  100 43825    0     0   602k      0 --:--:-- --:--:-- --:--:--  611k\n",
            "         TestNum TrainAcc TestAcc Epochs\n",
            "-------- ------- -------- ------- ------\n",
            "               1    0.963   0.964     34\n",
            "               2    0.960   0.956     29\n",
            "               3    0.972   0.956     79\n",
            "               4    0.969   0.927     65\n",
            "               5    0.972   0.964     28\n",
            "Averages       0    0.967   0.953     47\n"
          ],
          "name": "stdout"
        }
      ]
    },
    {
      "cell_type": "markdown",
      "metadata": {
        "id": "cm4rbWkzVeoR"
      },
      "source": [
        "### 5.2 By looking at the weights, explain what the model has learned and how the individual input features affect the result. Which specific features are most critical for the voting task, and which are least critical? \n"
      ]
    },
    {
      "cell_type": "markdown",
      "metadata": {
        "id": "g3F0Qp-BVi1R"
      },
      "source": [
        "\r\n",
        "Based on the Weights, the model has predicted that the 4th attribute and the 11th attribute are most key in determining voting choice. There is also a noticable influence by attribute 3, 9 and 10. This shows us that the way voters vote on these issues are more likely to influence them in voting either Democrat or Republican. Table and weights below\r\n",
        "\r\n",
        "         TestNum TrainAcc TestAcc Epochs\r\n",
        "          ------- -------- ------- ------\r\n",
        "               1    0.969   0.964     41\r\n",
        "               2    0.960   0.949     38\r\n",
        "               3    0.972   0.934     30\r\n",
        "               4    0.966   0.949     32\r\n",
        "               5    0.963   0.964     60\r\n",
        "    Averages   0    0.966   0.952     40\r\n",
        "\r\n",
        "Weights:\r\n",
        "the most obvious winners are attribute 4 and 11 after running it several trial runs. Nodes 3,8,9 and 10 are also influential \r\n",
        "[ 2.00000000e-01  4.00000000e-01  8.00000000e-01 -1.70000000e+00\r\n",
        " -7.00000000e-01  2.00000000e-01 -7.00000000e-01 -8.00000000e-01\r\n",
        "  7.00000000e-01 -4.00000000e-01  9.00000000e-01  2.77555756e-17\r\n",
        " -2.00000000e-01 -1.00000000e-01  7.00000000e-01 -5.00000000e-01\r\n",
        "  1.40000000e+00]"
      ]
    },
    {
      "cell_type": "markdown",
      "metadata": {
        "id": "NyUmJ4yWVsQ7"
      },
      "source": [
        "### 5.3 Make a graph of the average misclassification rate vs epochs (0th – final epoch).\n",
        "\n",
        "- Average the misclassification rate for the training set across your 5 trials (not across 5 epochs).\n",
        "\n",
        "\n",
        "![Average Misclassification Rate](https://raw.githubusercontent.com/rmorain/CS472-1/master/images/perceptron/avg_misclassification_rate_vs_epochs.png)"
      ]
    },
    {
      "cell_type": "code",
      "metadata": {
        "id": "2_ZRPWWVVeFM",
        "colab": {
          "base_uri": "https://localhost:8080/",
          "height": 295
        },
        "outputId": "84d566fd-2745-4046-8c5c-fac4369d9202"
      },
      "source": [
        "# Graph here\n",
        "minLen = 1000\n",
        "for i in mCR:\n",
        "  if len(i) < minLen:\n",
        "    minLen = len(i)\n",
        "avg_mCR = []\n",
        "for i in range(0, minLen):\n",
        "  avg = 0\n",
        "  for j in range(0,5):\n",
        "    avg += mCR[j][i]\n",
        "  avg_mCR.append(avg/5)\n",
        "\n",
        "def plot_misclassification(avg_misclassification_rate):\n",
        "    \"\"\"\n",
        "        Plots the average misclassification rate\n",
        "    Args:\n",
        "        avg_misclassification_rate (array-like): A 1D array or list\n",
        "    \"\"\"\n",
        "    plt.plot(np.arange(len(avg_misclassification_rate)), avg_misclassification_rate)\n",
        "    plt.title(\"Average Misclassification Rate vs. Epoch\")\n",
        "    plt.xlabel(\"Epoch\")\n",
        "    plt.ylabel(\"Misclassification Rate\")\n",
        "    plt.ylim(0,1)\n",
        "    plt.xlim(0,minLen)\n",
        "    plt.show()\n",
        "\n",
        "plot_misclassification(avg_mCR)    \n"
      ],
      "execution_count": null,
      "outputs": [
        {
          "output_type": "display_data",
          "data": {
            "image/png": "[encoded data removed]",
            "text/plain": [
              "<Figure size 432x288 with 1 Axes>"
            ]
          },
          "metadata": {
            "tags": [],
            "needs_background": "light"
          }
        }
      ]
    },
    {
      "cell_type": "markdown",
      "metadata": {
        "id": "oBBmeNQ7jvcQ"
      },
      "source": [
        "## 6. (10%) Use the perceptron algorithm from the [scikit-learn toolkit](https://scikit-learn.org/stable/modules/generated/sklearn.linear_model.Perceptron.html) to learn the voting task above and also one other data set of your choice.\n",
        "\n",
        "- Report and compare your results.\n",
        "- Try out some of the hyper-parameters that scikit-learn makes available on your own perceptron."
      ]
    },
    {
      "cell_type": "code",
      "metadata": {
        "id": "OFQv70W2VyqJ",
        "colab": {
          "base_uri": "https://localhost:8080/",
          "height": 689
        },
        "outputId": "9ea6bc05-9f78-4adc-a525-0b747e6f3e3b"
      },
      "source": [
        "# Load sklearn perceptron()\n",
        "np_data = np.array(df)\n",
        "row,col = np_data.shape\n",
        "\n",
        "\n",
        "np_data[np_data=='y'] = 1\n",
        "np_data[np_data=='n'] = 0\n",
        "np_data[np_data=='democrat'] = 1\n",
        "np_data[np_data=='republican'] = 0\n",
        "np_data = np_data.astype(float)\n",
        "\n",
        "# Train on voting datase\n",
        "X = np.array(np_data[:,0:col-1])\n",
        "y = np.array(np_data[:,col-1:col])\n",
        "# Split the data into 70% training data and 30% test data\n",
        "X_train, X_test, y_train, y_test = train_test_split(X, y, test_size=0.3)\n",
        "p = Perceptron(tol=1e-3, random_state=0)\n",
        "p.fit(X_train, y_train)\n",
        "print(round(p.score(X_test,y_test), 4))\n",
        "print(p.n_iter_)\n",
        "\n",
        "# Split the data into 70% training data and 30% test data\n",
        "X_train, X_test, y_train, y_test = train_test_split(X, y, test_size=0.3)\n",
        "p = Perceptron(tol=1e-3, random_state=0, early_stopping=True)\n",
        "p.fit(X_train, y_train)\n",
        "print(round(p.score(X_test,y_test), 4))\n",
        "print(p.n_iter_)\n",
        "\n",
        "# Split the data into 70% training data and 30% test data\n",
        "X_train, X_test, y_train, y_test = train_test_split(X, y, test_size=0.3)\n",
        "p = Perceptron(tol=1e-3, random_state=0, max_iter=3)\n",
        "p.fit(X_train, y_train)\n",
        "print(round(p.score(X_test,y_test), 4))\n",
        "print(p.n_iter_)\n",
        "\n",
        "# Split the data into 70% training data and 30% test data\n",
        "X_train, X_test, y_train, y_test = train_test_split(X, y, test_size=0.3)\n",
        "p = Perceptron(tol=1e-3, random_state=0, max_iter=1)\n",
        "p.fit(X_train, y_train)\n",
        "print(round(p.score(X_test,y_test), 4))\n",
        "print(p.n_iter_)\n",
        "\n",
        "# Split the data into 70% training data and 30% test data\n",
        "X_train, X_test, y_train, y_test = train_test_split(X, y, test_size=0.3)\n",
        "p = Perceptron(tol = .00000001)\n",
        "p.fit(X_train, y_train)\n",
        "print(round(p.score(X_test,y_test), 4))\n",
        "print(p.n_iter_)\n",
        "\n",
        "\n",
        "#second data set\n",
        "#getting training data to put into array\n",
        "!curl https://raw.githubusercontent.com/cs472ta/CS472/master/datasets/abalone.arff --output aba.arff\n",
        "#data = aba.loadarff('aba.arff')\n",
        "#df = pd.DataFrame(data[0])\n",
        "\n",
        "#second data set\n",
        "\n"
      ],
      "execution_count": null,
      "outputs": [
        {
          "output_type": "stream",
          "text": [
            "/usr/local/lib/python3.6/dist-packages/sklearn/utils/validation.py:760: DataConversionWarning: A column-vector y was passed when a 1d array was expected. Please change the shape of y to (n_samples, ), for example using ravel().\n",
            "  y = column_or_1d(y, warn=True)\n",
            "/usr/local/lib/python3.6/dist-packages/sklearn/utils/validation.py:760: DataConversionWarning: A column-vector y was passed when a 1d array was expected. Please change the shape of y to (n_samples, ), for example using ravel().\n",
            "  y = column_or_1d(y, warn=True)\n",
            "/usr/local/lib/python3.6/dist-packages/sklearn/utils/validation.py:760: DataConversionWarning: A column-vector y was passed when a 1d array was expected. Please change the shape of y to (n_samples, ), for example using ravel().\n",
            "  y = column_or_1d(y, warn=True)\n",
            "/usr/local/lib/python3.6/dist-packages/sklearn/linear_model/_stochastic_gradient.py:557: ConvergenceWarning: Maximum number of iteration reached before convergence. Consider increasing max_iter to improve the fit.\n",
            "  ConvergenceWarning)\n",
            "/usr/local/lib/python3.6/dist-packages/sklearn/utils/validation.py:760: DataConversionWarning: A column-vector y was passed when a 1d array was expected. Please change the shape of y to (n_samples, ), for example using ravel().\n",
            "  y = column_or_1d(y, warn=True)\n",
            "/usr/local/lib/python3.6/dist-packages/sklearn/linear_model/_stochastic_gradient.py:557: ConvergenceWarning: Maximum number of iteration reached before convergence. Consider increasing max_iter to improve the fit.\n",
            "  ConvergenceWarning)\n",
            "/usr/local/lib/python3.6/dist-packages/sklearn/utils/validation.py:760: DataConversionWarning: A column-vector y was passed when a 1d array was expected. Please change the shape of y to (n_samples, ), for example using ravel().\n",
            "  y = column_or_1d(y, warn=True)\n"
          ],
          "name": "stderr"
        },
        {
          "output_type": "stream",
          "text": [
            "0.9353\n",
            "7\n",
            "0.9712\n",
            "6\n",
            "0.9424\n",
            "3\n",
            "0.8633\n",
            "1\n",
            "0.9209\n",
            "8\n",
            "  % Total    % Received % Xferd  Average Speed   Time    Time     Time  Current\n",
            "                                 Dload  Upload   Total   Spent    Left  Speed\n",
            "100  187k  100  187k    0     0   650k      0 --:--:-- --:--:-- --:--:--  647k\n"
          ],
          "name": "stdout"
        },
        {
          "output_type": "error",
          "ename": "AttributeError",
          "evalue": "ignored",
          "traceback": [
            "\u001b[0;31m---------------------------------------------------------------------------\u001b[0m",
            "\u001b[0;31mAttributeError\u001b[0m                            Traceback (most recent call last)",
            "\u001b[0;32m<ipython-input-10-d21a311f9c5c>\u001b[0m in \u001b[0;36m<module>\u001b[0;34m()\u001b[0m\n\u001b[1;32m     56\u001b[0m \u001b[0;34m\u001b[0m\u001b[0m\n\u001b[1;32m     57\u001b[0m \u001b[0;31m#second data set\u001b[0m\u001b[0;34m\u001b[0m\u001b[0;34m\u001b[0m\u001b[0;34m\u001b[0m\u001b[0m\n\u001b[0;32m---> 58\u001b[0;31m \u001b[0mX\u001b[0m\u001b[0;34m,\u001b[0m\u001b[0my\u001b[0m \u001b[0;34m=\u001b[0m \u001b[0mdata\u001b[0m\u001b[0;34m.\u001b[0m\u001b[0mload_boston\u001b[0m\u001b[0;34m(\u001b[0m\u001b[0mreturn_X_y\u001b[0m\u001b[0;34m=\u001b[0m\u001b[0;32mTrue\u001b[0m\u001b[0;34m)\u001b[0m\u001b[0;34m\u001b[0m\u001b[0;34m\u001b[0m\u001b[0m\n\u001b[0m",
            "\u001b[0;31mAttributeError\u001b[0m: 'tuple' object has no attribute 'load_boston'"
          ]
        }
      ]
    },
    {
      "cell_type": "markdown",
      "metadata": {
        "id": "BqSFAXwlk3Ms"
      },
      "source": [
        "It looks like the hyperparameters do change it a bit but in the case of limiting the number of iterations it doesent look like it changes the accuracy very much until its limited to very few ~1 iteration. The model is very accurate at even 3 iterations. It is also notable that when tolerance is set very low it also reduces the accuracy. "
      ]
    },
    {
      "cell_type": "markdown",
      "metadata": {
        "id": "cTlK-kijk8Mg"
      },
      "source": [
        "## 7. (Optional 5% extra credit) Use the perceptron rule to learn the [iris task](https://raw.githubusercontent.com/cs472ta/CS472/master/datasets/iris.arff) or some other task with more than two possible output values. \n",
        "\n",
        "Note that the [iris data](https://raw.githubusercontent.com/cs472ta/CS472/master/datasets/iris.arff) set has 3 output classes, and a perceptron node only has two possible outputs.  You could implement either of the two most common ways to deal with this. For testing you just execute the novel instance on each model and combine the overall results to see which output class wins."
      ]
    },
    {
      "cell_type": "code",
      "metadata": {
        "id": "5iY77P7gk1Nh"
      },
      "source": [
        ""
      ],
      "execution_count": null,
      "outputs": []
    }
  ]
}